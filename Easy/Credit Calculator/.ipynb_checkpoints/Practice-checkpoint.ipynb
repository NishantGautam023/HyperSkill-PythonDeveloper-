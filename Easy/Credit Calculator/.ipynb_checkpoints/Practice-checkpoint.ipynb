{
 "cells": [
  {
   "cell_type": "code",
   "execution_count": 4,
   "metadata": {},
   "outputs": [
    {
     "name": "stdout",
     "output_type": "stream",
     "text": [
      "3.987\n",
      "-10\n",
      "IV\n"
     ]
    }
   ],
   "source": [
    "number1 = float(input())   # Represents X axis\n",
    "number2 = float(input())  # Represents Y axis\n",
    "if number1 >= 0 and number2>= 0:\n",
    "    print(\"I\")\n",
    "elif number1 <=0 and number2 >= 0:\n",
    "    print(\"II\")\n",
    "elif number1 <= 0 and number2 <=0:\n",
    "    print(\"III\")\n",
    "else:\n",
    "    print(\"IV\")             \n",
    "\n",
    "\n",
    "\n",
    "\n"
   ]
  },
  {
   "cell_type": "code",
   "execution_count": 5,
   "metadata": {},
   "outputs": [
    {
     "name": "stdout",
     "output_type": "stream",
     "text": [
      "pizza\n",
      "Margarita, Four Seasons, Neapoletana, Vegetarian, Spicy\n"
     ]
    }
   ],
   "source": [
    "pizza = \"Margarita, Four Seasons, Neapoletana, Vegetarian, Spicy\"\n",
    "salad = \"Caesar salad, Green salad, Tuna salad, Fruit salad\"\n",
    "soup = \"Chicken soup, Ramen, Tomato soup, Mushroom cream soup\"\n",
    "\n",
    "order = input()\n",
    "if order == \"pizza\":\n",
    "    print(pizza)\n",
    "elif order == \"salad\":\n",
    "    print(salad)\n",
    "elif order ==\"soup\":\n",
    "    print(soup)\n",
    "else:\n",
    "    print(\"Sorry, we don't have it in the menu\")            \n",
    "\n",
    "\n",
    "\n"
   ]
  },
  {
   "cell_type": "code",
   "execution_count": 9,
   "metadata": {},
   "outputs": [
    {
     "name": "stdout",
     "output_type": "stream",
     "text": [
      "100\n",
      "200\n",
      "F\n"
     ]
    }
   ],
   "source": [
    "student_marks = float(input())\n",
    "maximum_marks = int(input())\n",
    "obtained_percentage =  (student_marks/ maximum_marks) * 100\n",
    "if obtained_percentage >= 90:\n",
    "    print(\"A\")\n",
    "elif obtained_percentage >= 80 and obtained_percentage < 90:\n",
    "    print(\"B\")\n",
    "elif obtained_percentage   >= 70 and obtained_percentage < 80:\n",
    "    print(\"C\")\n",
    "elif obtained_percentage >=   60 and obtained_percentage < 70:\n",
    "    print(\"D\")\n",
    "else:\n",
    "    print(\"F\")"
   ]
  },
  {
   "cell_type": "code",
   "execution_count": 8,
   "metadata": {},
   "outputs": [
    {
     "data": {
      "text/plain": [
       "0.5"
      ]
     },
     "execution_count": 8,
     "metadata": {},
     "output_type": "execute_result"
    }
   ],
   "source": [
    "100/200"
   ]
  },
  {
   "cell_type": "code",
   "execution_count": 1,
   "metadata": {},
   "outputs": [
    {
     "data": {
      "text/plain": [
       "'16.66667'"
      ]
     },
     "execution_count": 1,
     "metadata": {},
     "output_type": "execute_result"
    }
   ],
   "source": [
    "'%.5f' % (100/6)"
   ]
  },
  {
   "cell_type": "code",
   "execution_count": 2,
   "metadata": {},
   "outputs": [
    {
     "data": {
      "text/plain": [
       "'100 divided by 6 equals 16.66667'"
      ]
     },
     "execution_count": 2,
     "metadata": {},
     "output_type": "execute_result"
    }
   ],
   "source": [
    "'{} divided by {} equals {:.5f}'.format(100, 6, 100/6)"
   ]
  },
  {
   "cell_type": "code",
   "execution_count": 3,
   "metadata": {},
   "outputs": [
    {
     "data": {
      "text/plain": [
       "'%.4f'"
      ]
     },
     "execution_count": 3,
     "metadata": {},
     "output_type": "execute_result"
    }
   ],
   "source": [
    "\"%.4f\".format(3.14159265358979)"
   ]
  },
  {
   "cell_type": "code",
   "execution_count": 4,
   "metadata": {},
   "outputs": [
    {
     "data": {
      "text/plain": [
       "'2 2 2'"
      ]
     },
     "execution_count": 4,
     "metadata": {},
     "output_type": "execute_result"
    }
   ],
   "source": [
    "\"{1} {1} {1}\".format(1, 2, 3)"
   ]
  },
  {
   "cell_type": "code",
   "execution_count": 5,
   "metadata": {},
   "outputs": [
    {
     "ename": "SyntaxError",
     "evalue": "positional argument follows keyword argument (<ipython-input-5-d35227eb4288>, line 1)",
     "output_type": "error",
     "traceback": [
      "\u001b[0;36m  File \u001b[0;32m\"<ipython-input-5-d35227eb4288>\"\u001b[0;36m, line \u001b[0;32m1\u001b[0m\n\u001b[0;31m    \"{1} is a {kind}\".format(kind=\"fruit\", \"grapefruit\")\u001b[0m\n\u001b[0m                                          ^\u001b[0m\n\u001b[0;31mSyntaxError\u001b[0m\u001b[0;31m:\u001b[0m positional argument follows keyword argument\n"
     ]
    }
   ],
   "source": [
    "\"{1} is a {kind}\".format(kind=\"fruit\", \"grapefruit\")"
   ]
  },
  {
   "cell_type": "code",
   "execution_count": 6,
   "metadata": {},
   "outputs": [
    {
     "data": {
      "text/plain": [
       "'Lisbon is the capital of Portugal'"
      ]
     },
     "execution_count": 6,
     "metadata": {},
     "output_type": "execute_result"
    }
   ],
   "source": [
    "\"{city} is the capital of {country}\".format(country=\"Portugal\",\n",
    "                                            city=\"Lisbon\")"
   ]
  },
  {
   "cell_type": "code",
   "execution_count": 7,
   "metadata": {},
   "outputs": [
    {
     "name": "stdout",
     "output_type": "stream",
     "text": [
      "5.25\n"
     ]
    }
   ],
   "source": [
    "print('%.2f' % (21/4))"
   ]
  },
  {
   "cell_type": "code",
   "execution_count": 22,
   "metadata": {},
   "outputs": [
    {
     "name": "stdout",
     "output_type": "stream",
     "text": [
      "pi = 3.14\n"
     ]
    }
   ],
   "source": [
    "x = 3.14159265\n",
    "print(f'pi = {x:.2f}')"
   ]
  },
  {
   "cell_type": "code",
   "execution_count": 27,
   "metadata": {},
   "outputs": [
    {
     "name": "stdout",
     "output_type": "stream",
     "text": [
      "12.30\n",
      "12.30000\n"
     ]
    }
   ],
   "source": [
    "val = 12.3\n",
    "\n",
    "print(f'{val:.2f}')\n",
    "print(f'{val:.5f}')"
   ]
  },
  {
   "cell_type": "code",
   "execution_count": 32,
   "metadata": {},
   "outputs": [
    {
     "name": "stdout",
     "output_type": "stream",
     "text": [
      "2.71828\n",
      "3\n",
      " 2.72\n"
     ]
    }
   ],
   "source": [
    ">>> width = 10\n",
    ">>> precision = 4\n",
    ">>> value = decimal.Decimal('12.34567')\n",
    ">>> f'result: {value:{width}.{precision}}'\n",
    "'result:      12.35'\n"
   ]
  },
  {
   "cell_type": "code",
   "execution_count": 55,
   "metadata": {},
   "outputs": [
    {
     "data": {
      "text/plain": [
       "'8e+00'"
      ]
     },
     "execution_count": 55,
     "metadata": {},
     "output_type": "execute_result"
    }
   ],
   "source": [
    "f'{7.818223233:.{1}}'"
   ]
  },
  {
   "cell_type": "code",
   "execution_count": 59,
   "metadata": {},
   "outputs": [
    {
     "name": "stdout",
     "output_type": "stream",
     "text": [
      "2.781828822\n",
      "3\n"
     ]
    },
    {
     "data": {
      "text/plain": [
       "'result: 2.72'"
      ]
     },
     "execution_count": 59,
     "metadata": {},
     "output_type": "execute_result"
    }
   ],
   "source": [
    "number - float(input())\n",
    "decimal_round = int(input())\n",
    "f'result: {number:.{decimal_round}}'"
   ]
  },
  {
   "cell_type": "code",
   "execution_count": 60,
   "metadata": {},
   "outputs": [
    {
     "ename": "SyntaxError",
     "evalue": "invalid syntax (<ipython-input-60-f1a9f3a9c465>, line 3)",
     "output_type": "error",
     "traceback": [
      "\u001b[0;36m  File \u001b[0;32m\"<ipython-input-60-f1a9f3a9c465>\"\u001b[0;36m, line \u001b[0;32m3\u001b[0m\n\u001b[0;31m    f'Rounding {number} to 1 decimal place is {number:.decimal_roundf}')\u001b[0m\n\u001b[0m                                                                       ^\u001b[0m\n\u001b[0;31mSyntaxError\u001b[0m\u001b[0;31m:\u001b[0m invalid syntax\n"
     ]
    }
   ],
   "source": [
    "number = float(input())\n",
    "decimal_round = int(input())\n",
    "print(f'Rounding {needed_percent_number} to 1 decimal place is {needed_percent_number:.1f}')"
   ]
  },
  {
   "cell_type": "code",
   "execution_count": 61,
   "metadata": {},
   "outputs": [
    {
     "name": "stdout",
     "output_type": "stream",
     "text": [
      "Rounding 2.781811 to 1 decimal place is 2.8\n"
     ]
    }
   ],
   "source": [
    "print(f'Rounding {2.781811} to 1 decimal place is {2.781811:.1f}')"
   ]
  },
  {
   "cell_type": "code",
   "execution_count": 63,
   "metadata": {},
   "outputs": [
    {
     "name": "stdout",
     "output_type": "stream",
     "text": [
      "12.31\n",
      "12.31221\n"
     ]
    }
   ],
   "source": [
    "val = 12.312212\n",
    "\n",
    "print(f'{val:.2f}')\n",
    "print(f'{val:.5f}')"
   ]
  },
  {
   "cell_type": "code",
   "execution_count": 74,
   "metadata": {},
   "outputs": [
    {
     "name": "stdout",
     "output_type": "stream",
     "text": [
      "3.141592\n",
      "3\n",
      "3.142\n"
     ]
    }
   ],
   "source": [
    "number = float(input())\n",
    "decimal_round = int(input())\n",
    "print(f'{number:.{decimal_round}f}')"
   ]
  },
  {
   "cell_type": "code",
   "execution_count": 23,
   "metadata": {},
   "outputs": [
    {
     "name": "stdout",
     "output_type": "stream",
     "text": [
      "Enter the credit principal:\n",
      "1000\n",
      "\n",
      "What do you want to calculate? \n",
      "type \"m\" - for count of months, \n",
      "type \"p\" - for monthly payment\n",
      "\n",
      "\n",
      "p\n",
      "Enter count of months:\n",
      "9\n",
      "Your monthly payment = 112 with last month payment = 104\n"
     ]
    }
   ],
   "source": [
    "import math\n",
    "print(\"Enter the credit principal:\")\n",
    "credit_principal = int(input())\n",
    "print(\"\"\"\n",
    "What do you want to calculate? \n",
    "type \"m\" - for count of months, \n",
    "type \"p\" - for monthly payment\n",
    "\n",
    "\"\"\")\n",
    "user_input = (input())\n",
    "\n",
    "if user_input == \"m\":\n",
    "    print(\"Enter monthly payment\")\n",
    "    monthly_payment = int(input())\n",
    "    payment = math.ceil((credit_principal / monthly_payment))\n",
    "    print(\"It takes\", str(payment), \"months to repay the credit\")\n",
    "    \n",
    "if user_input ==\"p\":\n",
    "    print(\"Enter count of months:\")\n",
    "    user_input_months = int(input())\n",
    "    monthly_payment = math.ceil((credit_principal / user_input_months))\n",
    "    last_payment = credit_principal - (user_input_months   - 1) * monthly_payment\n",
    "    \n",
    "    \n",
    "    if monthly_payment == last_payment:\n",
    "        print('Your monthly payment = ' + str(monthly_payment))\n",
    "    else:\n",
    "        print('Your monthly payment = ' + str(monthly_payment) + ' with last month payment = ' + str(last_payment))"
   ]
  },
  {
   "cell_type": "code",
   "execution_count": 4,
   "metadata": {},
   "outputs": [
    {
     "data": {
      "text/plain": [
       "'My name is Nishant'"
      ]
     },
     "execution_count": 4,
     "metadata": {},
     "output_type": "execute_result"
    }
   ],
   "source": [
    "name = \"Nishant\"\n",
    "f'My name is {name}'"
   ]
  },
  {
   "cell_type": "code",
   "execution_count": 26,
   "metadata": {},
   "outputs": [
    {
     "name": "stdout",
     "output_type": "stream",
     "text": [
      "green\n"
     ]
    }
   ],
   "source": [
    "from random import choice\n",
    "print(choice(['red', 'green', 'yellow']))"
   ]
  },
  {
   "cell_type": "code",
   "execution_count": 1,
   "metadata": {},
   "outputs": [
    {
     "name": "stdout",
     "output_type": "stream",
     "text": [
      "3\n"
     ]
    },
    {
     "data": {
      "text/plain": [
       "6"
      ]
     },
     "execution_count": 1,
     "metadata": {},
     "output_type": "execute_result"
    }
   ],
   "source": [
    "import math\n",
    "x = int(input())\n",
    "math.factorial(x)"
   ]
  },
  {
   "cell_type": "code",
   "execution_count": 4,
   "metadata": {},
   "outputs": [
    {
     "name": "stdout",
     "output_type": "stream",
     "text": [
      "0123456789\n",
      "abcdefghijklmnopqrstuvwxyz\n"
     ]
    }
   ],
   "source": [
    "from string import digits\n",
    "from string import ascii_lowercase\n",
    "print(digits)\n",
    "print(ascii_lowercase)"
   ]
  },
  {
   "cell_type": "code",
   "execution_count": 14,
   "metadata": {},
   "outputs": [
    {
     "name": "stdout",
     "output_type": "stream",
     "text": [
      "None\n"
     ]
    }
   ],
   "source": [
    "\n",
    "import random\n",
    "\n",
    "print(random.seed(100,100))"
   ]
  },
  {
   "cell_type": "code",
   "execution_count": 16,
   "metadata": {},
   "outputs": [
    {
     "name": "stdout",
     "output_type": "stream",
     "text": [
      "36\n",
      "-16\n"
     ]
    }
   ],
   "source": [
    "import random\n",
    "n = int(input())\n",
    "random.seed(n)\n",
    "print(random.randint(-100,100))"
   ]
  },
  {
   "cell_type": "code",
   "execution_count": 17,
   "metadata": {},
   "outputs": [
    {
     "data": {
      "text/plain": [
       "2"
      ]
     },
     "execution_count": 17,
     "metadata": {},
     "output_type": "execute_result"
    }
   ],
   "source": [
    "min(10,2)"
   ]
  },
  {
   "cell_type": "code",
   "execution_count": 18,
   "metadata": {},
   "outputs": [
    {
     "name": "stdout",
     "output_type": "stream",
     "text": [
      "3.18\n",
      "0.9608646240274855\n"
     ]
    }
   ],
   "source": [
    "import math\n",
    "n = float(input())\n",
    "a = math.sin(n)\n",
    "b = math.cos(n)\n",
    "result = a -b\n",
    "print(result)\n"
   ]
  },
  {
   "cell_type": "code",
   "execution_count": 25,
   "metadata": {},
   "outputs": [
    {
     "name": "stdout",
     "output_type": "stream",
     "text": [
      "-40\n",
      "0.0\n"
     ]
    }
   ],
   "source": [
    "import math\n",
    "x = int(input())\n",
    "answer = 1/ (1 + math.exp(-x))\n",
    "print(round(answer,2))\n"
   ]
  },
  {
   "cell_type": "code",
   "execution_count": 27,
   "metadata": {},
   "outputs": [
    {
     "name": "stdout",
     "output_type": "stream",
     "text": [
      "62\n",
      "1.0\n"
     ]
    }
   ],
   "source": [
    "import math\n",
    "thetha = int(input())\n",
    "cos = math.cos(thetha)\n",
    "sin = math.cos(thetha)\n",
    "answer = cos / sin\n",
    "answer1 = round(answer, 10)\n",
    "print(answer1)\n"
   ]
  },
  {
   "cell_type": "code",
   "execution_count": 30,
   "metadata": {},
   "outputs": [
    {
     "name": "stdout",
     "output_type": "stream",
     "text": [
      "62\n",
      "0.5317094317\n"
     ]
    }
   ],
   "source": [
    "import math\n",
    "x = int(input())\n",
    "deg = math.radians(x)\n",
    "answer = 1/math.tan(deg)\n",
    "print(round(answer,10))"
   ]
  },
  {
   "cell_type": "code",
   "execution_count": 2,
   "metadata": {},
   "outputs": [
    {
     "name": "stdout",
     "output_type": "stream",
     "text": [
      "9\n",
      "68\n",
      "589\n",
      "False\n"
     ]
    }
   ],
   "source": [
    "number_of_halls = int(input())\n",
    "capacity = int(input())\n",
    "number_of_views = int(input())\n",
    "total_people_who_can_accomodate = number_of_halls * capacity\n",
    "\n",
    "if total_people_who_can_accomodate == number_of_views:\n",
    "    print(\"True\")\n",
    "else:\n",
    "    print(\"False\")\n"
   ]
  },
  {
   "cell_type": "code",
   "execution_count": 3,
   "metadata": {},
   "outputs": [
    {
     "data": {
      "text/plain": [
       "612"
      ]
     },
     "execution_count": 3,
     "metadata": {},
     "output_type": "execute_result"
    }
   ],
   "source": [
    "9 * 68"
   ]
  },
  {
   "cell_type": "code",
   "execution_count": null,
   "metadata": {},
   "outputs": [
    {
     "name": "stdout",
     "output_type": "stream",
     "text": [
      "\n",
      "What do you want to calculate? \n",
      "type \"n\" - for count of months, \n",
      "type \"a\" - for annuity monthly payment,\n",
      "type \"p\" - for credit principal: \n",
      "\n"
     ]
    }
   ],
   "source": [
    "import math\n",
    "print(\"\"\"\n",
    "What do you want to calculate? \n",
    "type \"n\" - for count of months, \n",
    "type \"a\" - for annuity monthly payment,\n",
    "type \"p\" - for credit principal: \n",
    "\"\"\")\n",
    "user_input = input()\n",
    "\n",
    "# Case 1\n",
    "if user_input == \"n\":\n",
    "    print(\"Enter credit  principal\")\n",
    "    credit_principal = float(input())\n",
    "    print(\"Enter monthly payment\")\n",
    "    monthly_payment = float(input())\n",
    "    print(\"Enter credit interest\")\n",
    "    credit_interest = float(input())\n",
    "    \n",
    "    \n",
    "    nominal_interest = (credit_interest)/(12 * 100)\n",
    "    base = 1 + nominal_interest\n",
    "    x =(monthly_payment/(monthly_payment - nominal_interest * credit_principal))\n",
    "    number_of_months = math.ceil((math.log(x) / math.log(base)))\n",
    "    \n",
    "    \n",
    "    if (number_of_months >= 12 and number_of_months % 12 != 0):\n",
    "        years = math.ceil(number_of_months // 12) \n",
    "        months = math.ceil(number_of_months % 12)\n",
    "        print(f'You need {years} years and {months} months to repay this credit!')\n",
    "        \n",
    "    elif number_of_months % 12 == 0:\n",
    "        years = number_of_months // 12\n",
    "        print(f'You need {years} years to repay this credit!')\n",
    "        \n",
    "        \n",
    "    else:\n",
    "        print(\"You need\", str(number_of_months), \"month to repay the credit!\")\n",
    "        \n",
    "    \n",
    "# case 2  \n",
    "if user_input == \"a\":\n",
    "    print(\"Enter credit  principal\")\n",
    "    credit_principal = float(input())\n",
    "    print(\"Enter count of periods\")\n",
    "    monthly_payment = float(input())\n",
    "    print(\"Enter credit interest\")\n",
    "    credit_interest = float(input())\n",
    "    nominal_interest = (credit_interest)/(12 * 100)\n",
    "    \n",
    "    numerator = (credit_principal * (nominal_interest * pow(1+ nominal_interest,monthly_payment)))\n",
    "    denominator = (pow(1+nominal_interest,monthly_payment) -1)\n",
    "    annuity_payment = math.ceil(numerator / denominator) \n",
    "    print(f'Your annuity payment = {annuity_payment}!')\n",
    "    \n",
    "# case 3:\n",
    "if user_input == \"p\":\n",
    "    print(\"Enter monthly payment\")\n",
    "    monthly_payment = float(input())\n",
    "    print(\"Enter count of periods\")\n",
    "    number_of_months = float(input())\n",
    "    print(\"Enter credit interest\")\n",
    "    credit_interest = float(input())\n",
    "    nominal_interest = (credit_interest)/(12 * 100)\n",
    "    \n",
    "    \n",
    "    \n",
    "    annuity_payment = monthly_payment\n",
    "    \n",
    "    numerator = annuity_payment\n",
    "    denominator =  (nominal_interest * pow(1+ nominal_interest, number_of_months)) / ((pow(1 + nominal_interest, number_of_months)) -1)\n",
    "    credit_principal = round((numerator / denominator)) \n",
    "    print(f'Your credit principal = {credit_principal}!')\n",
    "    "
   ]
  },
  {
   "cell_type": "code",
   "execution_count": 2,
   "metadata": {},
   "outputs": [
    {
     "ename": "IndentationError",
     "evalue": "unindent does not match any outer indentation level (<tokenize>, line 6)",
     "output_type": "error",
     "traceback": [
      "\u001b[0;36m  File \u001b[0;32m\"<tokenize>\"\u001b[0;36m, line \u001b[0;32m6\u001b[0m\n\u001b[0;31m    else:\u001b[0m\n\u001b[0m    ^\u001b[0m\n\u001b[0;31mIndentationError\u001b[0m\u001b[0;31m:\u001b[0m unindent does not match any outer indentation level\n"
     ]
    }
   ],
   "source": [
    " \n",
    "    if (number_of_months >= 12 and number_of_months % 12 != 0):\n",
    "        \n",
    "    lif number_of_months % 12 == 0:\n",
    "        years = number_of_months // 12\n",
    "        \n",
    "     else:\n",
    "        print(\"You need\", str(number_of_months), \"month to repay the credit!\")   "
   ]
  },
  {
   "cell_type": "code",
   "execution_count": 7,
   "metadata": {},
   "outputs": [
    {
     "ename": "ValueError",
     "evalue": "could not convert string to float: '2.x'",
     "output_type": "error",
     "traceback": [
      "\u001b[0;31m---------------------------------------------------------------------------\u001b[0m",
      "\u001b[0;31mValueError\u001b[0m                                Traceback (most recent call last)",
      "\u001b[0;32m<ipython-input-7-2e0dea14e793>\u001b[0m in \u001b[0;36m<module>\u001b[0;34m\u001b[0m\n\u001b[0;32m----> 1\u001b[0;31m \u001b[0mprint\u001b[0m\u001b[0;34m(\u001b[0m\u001b[0mfloat\u001b[0m\u001b[0;34m(\u001b[0m\u001b[0;34m\"2.x\"\u001b[0m\u001b[0;34m)\u001b[0m\u001b[0;34m)\u001b[0m\u001b[0;34m\u001b[0m\u001b[0;34m\u001b[0m\u001b[0m\n\u001b[0m",
      "\u001b[0;31mValueError\u001b[0m: could not convert string to float: '2.x'"
     ]
    }
   ],
   "source": [
    "print(float(\"2.x\"))"
   ]
  },
  {
   "cell_type": "code",
   "execution_count": 10,
   "metadata": {},
   "outputs": [
    {
     "name": "stdout",
     "output_type": "stream",
     "text": [
      "2.0\n",
      "2020\n"
     ]
    }
   ],
   "source": [
    "print(1.0 * 2)\n"
   ]
  },
  {
   "cell_type": "code",
   "execution_count": 9,
   "metadata": {},
   "outputs": [
    {
     "name": "stdout",
     "output_type": "stream",
     "text": [
      "2.0\n"
     ]
    }
   ],
   "source": [
    "n = 2.777\n",
    "print(str(float(int(n))))"
   ]
  },
  {
   "cell_type": "code",
   "execution_count": 11,
   "metadata": {},
   "outputs": [],
   "source": [
    "var = \"10\"\n",
    "var = var * 2\n",
    " \n",
    "var = int(var)\n",
    "var = var * 2"
   ]
  },
  {
   "cell_type": "code",
   "execution_count": 12,
   "metadata": {},
   "outputs": [
    {
     "data": {
      "text/plain": [
       "-1"
      ]
     },
     "execution_count": 12,
     "metadata": {},
     "output_type": "execute_result"
    }
   ],
   "source": [
    "int(\"-1\")"
   ]
  },
  {
   "cell_type": "code",
   "execution_count": 13,
   "metadata": {},
   "outputs": [
    {
     "data": {
      "text/plain": [
       "3"
      ]
     },
     "execution_count": 13,
     "metadata": {},
     "output_type": "execute_result"
    }
   ],
   "source": [
    "len(\"abc\")"
   ]
  },
  {
   "cell_type": "code",
   "execution_count": 14,
   "metadata": {},
   "outputs": [
    {
     "ename": "TypeError",
     "evalue": "object of type 'int' has no len()",
     "output_type": "error",
     "traceback": [
      "\u001b[0;31m---------------------------------------------------------------------------\u001b[0m",
      "\u001b[0;31mTypeError\u001b[0m                                 Traceback (most recent call last)",
      "\u001b[0;32m<ipython-input-14-f5eb794bfe88>\u001b[0m in \u001b[0;36m<module>\u001b[0;34m\u001b[0m\n\u001b[0;32m----> 1\u001b[0;31m \u001b[0mlen\u001b[0m\u001b[0;34m(\u001b[0m\u001b[0;36m10\u001b[0m\u001b[0;34m)\u001b[0m\u001b[0;34m\u001b[0m\u001b[0;34m\u001b[0m\u001b[0m\n\u001b[0m",
      "\u001b[0;31mTypeError\u001b[0m: object of type 'int' has no len()"
     ]
    }
   ],
   "source": [
    "len(10)"
   ]
  },
  {
   "cell_type": "code",
   "execution_count": 15,
   "metadata": {},
   "outputs": [
    {
     "name": "stdout",
     "output_type": "stream",
     "text": [
      "apple\n",
      "apple\n"
     ]
    },
    {
     "ename": "IndexError",
     "evalue": "list index out of range",
     "output_type": "error",
     "traceback": [
      "\u001b[0;31m---------------------------------------------------------------------------\u001b[0m",
      "\u001b[0;31mIndexError\u001b[0m                                Traceback (most recent call last)",
      "\u001b[0;32m<ipython-input-15-a8f87b2a7f8e>\u001b[0m in \u001b[0;36m<module>\u001b[0;34m\u001b[0m\n\u001b[1;32m      3\u001b[0m \u001b[0mprint\u001b[0m\u001b[0;34m(\u001b[0m\u001b[0mfruits\u001b[0m\u001b[0;34m[\u001b[0m\u001b[0;36m0\u001b[0m\u001b[0;34m]\u001b[0m\u001b[0;34m)\u001b[0m     \u001b[0;31m# 3\u001b[0m\u001b[0;34m\u001b[0m\u001b[0;34m\u001b[0m\u001b[0m\n\u001b[1;32m      4\u001b[0m \u001b[0mprint\u001b[0m\u001b[0;34m(\u001b[0m\u001b[0mfruits\u001b[0m\u001b[0;34m[\u001b[0m\u001b[0;34m-\u001b[0m\u001b[0;36m5\u001b[0m\u001b[0;34m]\u001b[0m\u001b[0;34m)\u001b[0m    \u001b[0;31m# 4\u001b[0m\u001b[0;34m\u001b[0m\u001b[0;34m\u001b[0m\u001b[0m\n\u001b[0;32m----> 5\u001b[0;31m \u001b[0mprint\u001b[0m\u001b[0;34m(\u001b[0m\u001b[0mfruits\u001b[0m\u001b[0;34m[\u001b[0m\u001b[0;36m5\u001b[0m\u001b[0;34m]\u001b[0m\u001b[0;34m)\u001b[0m     \u001b[0;31m# 5\u001b[0m\u001b[0;34m\u001b[0m\u001b[0;34m\u001b[0m\u001b[0m\n\u001b[0m\u001b[1;32m      6\u001b[0m \u001b[0mprint\u001b[0m\u001b[0;34m(\u001b[0m\u001b[0mfruits\u001b[0m\u001b[0;34m[\u001b[0m\u001b[0;36m4\u001b[0m\u001b[0;34m-\u001b[0m\u001b[0;36m2\u001b[0m\u001b[0;34m]\u001b[0m\u001b[0;34m)\u001b[0m   \u001b[0;31m# 6\u001b[0m\u001b[0;34m\u001b[0m\u001b[0;34m\u001b[0m\u001b[0m\n",
      "\u001b[0;31mIndexError\u001b[0m: list index out of range"
     ]
    }
   ],
   "source": [
    "fruits = [\"apple\", \"pear\", \"orange\", \"mango\", \"peach\"]\n",
    " \n",
    "print(fruits[0])     # 3\n",
    "print(fruits[-5])    # 4\n",
    "print(fruits[5])     # 5\n",
    "print(fruits[4-2])   # 6"
   ]
  },
  {
   "cell_type": "code",
   "execution_count": 16,
   "metadata": {},
   "outputs": [
    {
     "name": "stdout",
     "output_type": "stream",
     "text": [
      "peach\n"
     ]
    }
   ],
   "source": [
    "fruits = [\"apple\", \"pear\", \"orange\", \"mango\", \"peach\"]\n",
    "print(fruits[-1])"
   ]
  },
  {
   "cell_type": "code",
   "execution_count": 17,
   "metadata": {},
   "outputs": [
    {
     "name": "stdout",
     "output_type": "stream",
     "text": [
      "224\n"
     ]
    }
   ],
   "source": [
    "prices = [170, 309, 224, 991, 4000]\n",
    "print(prices[-3])"
   ]
  },
  {
   "cell_type": "code",
   "execution_count": 22,
   "metadata": {},
   "outputs": [
    {
     "name": "stdout",
     "output_type": "stream",
     "text": [
      "o\n"
     ]
    }
   ],
   "source": [
    "alphabet = 'abcdefghijklmnopqrstuvwxyz'\n",
    "answer = list(alphabet)\n",
    "print(answer[14])"
   ]
  },
  {
   "cell_type": "code",
   "execution_count": 24,
   "metadata": {},
   "outputs": [
    {
     "name": "stdout",
     "output_type": "stream",
     "text": [
      "second string = kalu\n"
     ]
    }
   ],
   "source": [
    "b =\"second string = kalu\"\n",
    "print(b)"
   ]
  },
  {
   "cell_type": "code",
   "execution_count": 25,
   "metadata": {},
   "outputs": [],
   "source": [
    "f = \"\"\"is this even posssible!?\"\"\""
   ]
  },
  {
   "cell_type": "code",
   "execution_count": 26,
   "metadata": {},
   "outputs": [
    {
     "ename": "SyntaxError",
     "evalue": "invalid syntax (<ipython-input-26-424313611be3>, line 1)",
     "output_type": "error",
     "traceback": [
      "\u001b[0;36m  File \u001b[0;32m\"<ipython-input-26-424313611be3>\"\u001b[0;36m, line \u001b[0;32m1\u001b[0m\n\u001b[0;31m    e = 'we \"quote\" it, because we can, can't we?'\u001b[0m\n\u001b[0m                                            ^\u001b[0m\n\u001b[0;31mSyntaxError\u001b[0m\u001b[0;31m:\u001b[0m invalid syntax\n"
     ]
    }
   ],
   "source": [
    "e = 'we \"quote\" it, because we can, can't we?'\n"
   ]
  },
  {
   "cell_type": "code",
   "execution_count": 30,
   "metadata": {},
   "outputs": [],
   "source": [
    "a = 'first string'\n",
    "b = \"second string = first string\"\n",
    "\n",
    "\n",
    "f = \"\"\"is this even posssible!?\"\"\""
   ]
  },
  {
   "cell_type": "code",
   "execution_count": null,
   "metadata": {},
   "outputs": [],
   "source": []
  }
 ],
 "metadata": {
  "kernelspec": {
   "display_name": "Python 3",
   "language": "python",
   "name": "python3"
  },
  "language_info": {
   "codemirror_mode": {
    "name": "ipython",
    "version": 3
   },
   "file_extension": ".py",
   "mimetype": "text/x-python",
   "name": "python",
   "nbconvert_exporter": "python",
   "pygments_lexer": "ipython3",
   "version": "3.7.4"
  }
 },
 "nbformat": 4,
 "nbformat_minor": 4
}
