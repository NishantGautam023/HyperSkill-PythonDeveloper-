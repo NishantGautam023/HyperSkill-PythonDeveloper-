{
 "cells": [
  {
   "cell_type": "code",
   "execution_count": 2,
   "metadata": {},
   "outputs": [
    {
     "data": {
      "text/plain": [
       "27"
      ]
     },
     "execution_count": 2,
     "metadata": {},
     "output_type": "execute_result"
    }
   ],
   "source": [
    "round(54/2)"
   ]
  },
  {
   "cell_type": "code",
   "execution_count": 9,
   "metadata": {},
   "outputs": [
    {
     "name": "stdout",
     "output_type": "stream",
     "text": [
      "Hello! My name is Aid.\n",
      "I was created in 2020.\n",
      "Please, remind me your name.\n",
      "nis\n",
      "What a great name you have, nis!\n",
      "Let me guess your age.\n",
      "Enter remainders of dividing your age by 3, 5 and 7.\n",
      "1\n",
      "2\n",
      "1\n",
      "Your age is 22; that's a good time to start programming!\n"
     ]
    }
   ],
   "source": [
    "print('Hello! My name is Aid.')\n",
    "print('I was created in 2020.')\n",
    "print('Please, remind me your name.')\n",
    "\n",
    "name = input()\n",
    "\n",
    "print('What a great name you have, ' + name + '!')\n",
    "print('Let me guess your age.')\n",
    "print('Enter remainders of dividing your age by 3, 5 and 7.')\n",
    "\n",
    "# reading all remainders\n",
    "remainder_one = int(input())\n",
    "remainder_two = int(input())\n",
    "reaminder_three = int(input())\n",
    "\n",
    "new_age = (((remainder_one%3)*70)+((remainder_two%5)*21)+((reaminder_three%7)*15))% 105\n",
    "\n",
    "\n",
    "print(\"Your age is \" + str(new_age) + \"; that's a good time to start programming!\")"
   ]
  },
  {
   "cell_type": "code",
   "execution_count": 18,
   "metadata": {},
   "outputs": [
    {
     "name": "stdout",
     "output_type": "stream",
     "text": [
      "123\n",
      "456\n",
      "133\n"
     ]
    }
   ],
   "source": [
    "number=str(123456)\n",
    "half_one =number[0:3]\n",
    "second_half = number[3:]\n",
    "print(half_one)\n",
    "print(second_half)\n",
    "sum_half = half_one[0]  + half_one[2] + half_one[2]\n",
    "print(sum_half)"
   ]
  },
  {
   "cell_type": "code",
   "execution_count": 23,
   "metadata": {},
   "outputs": [
    {
     "name": "stdout",
     "output_type": "stream",
     "text": [
      "123\n"
     ]
    }
   ],
   "source": [
    "number = 123\n",
    "number_string = list(str(number))\n",
    "answer_one = number_string[0]\n",
    "answer_two = number_string[1]\n",
    "answer_three = number_string[2]\n",
    "final = answer_one + answer_two + answer_three\n",
    "print(final)"
   ]
  },
  {
   "cell_type": "code",
   "execution_count": 25,
   "metadata": {},
   "outputs": [
    {
     "name": "stdout",
     "output_type": "stream",
     "text": [
      "2\n",
      "3\n"
     ]
    },
    {
     "data": {
      "text/plain": [
       "False"
      ]
     },
     "execution_count": 25,
     "metadata": {},
     "output_type": "execute_result"
    }
   ],
   "source": [
    "set_number = 6557\n",
    "number_one = int(input())\n",
    "number_two = int(input())\n",
    "set_number ==number_one * number_two"
   ]
  },
  {
   "cell_type": "code",
   "execution_count": 26,
   "metadata": {},
   "outputs": [
    {
     "name": "stdout",
     "output_type": "stream",
     "text": [
      "2\n",
      "3\n"
     ]
    },
    {
     "data": {
      "text/plain": [
       "False"
      ]
     },
     "execution_count": 26,
     "metadata": {},
     "output_type": "execute_result"
    }
   ],
   "source": [
    "set_number = 6557\n",
    "number_one = int(input())\n",
    "number_two = int(input())\n",
    "answer = number_one * number_two\n",
    "set_number == answer"
   ]
  },
  {
   "cell_type": "code",
   "execution_count": 1,
   "metadata": {},
   "outputs": [
    {
     "name": "stdout",
     "output_type": "stream",
     "text": [
      "25\n"
     ]
    }
   ],
   "source": [
    "x = 25\n",
    "while x %2 != 0:\n",
    "    print(x)\n",
    "    x = x + 3"
   ]
  },
  {
   "cell_type": "code",
   "execution_count": 2,
   "metadata": {},
   "outputs": [
    {
     "name": "stdout",
     "output_type": "stream",
     "text": [
      "25\n",
      "28\n"
     ]
    }
   ],
   "source": [
    "x = 25\n",
    "while x <= 30 :\n",
    "    print(x)\n",
    "    x = x + 3"
   ]
  },
  {
   "cell_type": "code",
   "execution_count": 4,
   "metadata": {},
   "outputs": [
    {
     "name": "stdout",
     "output_type": "stream",
     "text": [
      "25\n",
      "28\n",
      "31\n",
      "34\n",
      "37\n",
      "40\n",
      "43\n",
      "46\n",
      "49\n"
     ]
    }
   ],
   "source": [
    "x = 25\n",
    "while x* 2 % 100 >=50  :\n",
    "    print(x)\n",
    "    x = x + 3"
   ]
  },
  {
   "cell_type": "code",
   "execution_count": 5,
   "metadata": {},
   "outputs": [
    {
     "name": "stdout",
     "output_type": "stream",
     "text": [
      "0\n",
      "2\n",
      "4\n",
      "6\n",
      "8\n",
      "10\n"
     ]
    }
   ],
   "source": [
    "number = 0\n",
    "while number < 12:\n",
    "   print(number)\n",
    "   number += 2"
   ]
  },
  {
   "cell_type": "code",
   "execution_count": 7,
   "metadata": {},
   "outputs": [
    {
     "name": "stdout",
     "output_type": "stream",
     "text": [
      "1\n",
      "2\n",
      "3\n",
      "4\n",
      "5\n",
      "6\n",
      "7\n",
      "10\n",
      "13\n"
     ]
    }
   ],
   "source": [
    "i = 0\n",
    "while i <= 10:\n",
    "    i = i + 1\n",
    "    if i > 7:\n",
    "        i = i + 2\n",
    "    print(i)    "
   ]
  },
  {
   "cell_type": "code",
   "execution_count": 9,
   "metadata": {},
   "outputs": [
    {
     "name": "stdout",
     "output_type": "stream",
     "text": [
      "1\n",
      "2\n",
      "3\n",
      "4\n",
      "5\n",
      "6\n",
      "7\n",
      "8\n",
      "9\n",
      "10\n",
      "11\n"
     ]
    }
   ],
   "source": [
    "i =0\n",
    "while i <=10:\n",
    "    i = i +1 \n",
    "    \n",
    "    print(i)"
   ]
  },
  {
   "cell_type": "code",
   "execution_count": 10,
   "metadata": {},
   "outputs": [
    {
     "name": "stdout",
     "output_type": "stream",
     "text": [
      "5\n",
      "0 !\n",
      "1 !\n",
      "2 !\n",
      "3 !\n",
      "4 !\n",
      "5 !\n"
     ]
    }
   ],
   "source": [
    "guess = int(input())\n",
    "count = 0\n",
    "while count <= guess:\n",
    "    print(count, \"!\")\n",
    "    count += 1\n"
   ]
  },
  {
   "cell_type": "code",
   "execution_count": 13,
   "metadata": {},
   "outputs": [
    {
     "name": "stdout",
     "output_type": "stream",
     "text": [
      "2\n",
      "3\n"
     ]
    }
   ],
   "source": [
    "x = int(input())\n",
    "y = int(input())\n",
    "# the variables `x` and `y` are defined, so just print the minimum\n",
    "def minimum(x,y):\n",
    "    if x >y:\n",
    "        print(x)\n",
    "    else:\n",
    "        print(y)\n",
    "    minimum(x,y)  "
   ]
  },
  {
   "cell_type": "code",
   "execution_count": 14,
   "metadata": {},
   "outputs": [
    {
     "name": "stdout",
     "output_type": "stream",
     "text": [
      "<class 'builtin_function_or_method'>\n"
     ]
    }
   ],
   "source": [
    "print(type(print))"
   ]
  },
  {
   "cell_type": "code",
   "execution_count": 16,
   "metadata": {},
   "outputs": [
    {
     "data": {
      "text/plain": [
       "212.0"
      ]
     },
     "execution_count": 16,
     "metadata": {},
     "output_type": "execute_result"
    }
   ],
   "source": [
    "def celcius_fahrenheit(temp_c):\n",
    "    temp_f = temp_c * 9/5 + 32\n",
    "    return round(temp_f,2)\n",
    "celcius_fahrenheit(100)"
   ]
  },
  {
   "cell_type": "code",
   "execution_count": 18,
   "metadata": {},
   "outputs": [],
   "source": [
    "def fahrenheit_to_celsius(temp_f):\n",
    "    temp_c = temp_f * 32 - 5/9\n",
    "    answer = round(temp_c, 3)\n",
    "fahrenheit_to_celsius(451)    \n",
    "    "
   ]
  },
  {
   "cell_type": "code",
   "execution_count": 19,
   "metadata": {},
   "outputs": [
    {
     "data": {
      "text/plain": [
       "82.22"
      ]
     },
     "execution_count": 19,
     "metadata": {},
     "output_type": "execute_result"
    }
   ],
   "source": [
    "def fahrenheit_to_celcius(temp_f):\n",
    "    temp_c = temp_f -32 * 5/9\n",
    "    return round(temp_c,2)\n",
    "fahrenheit_to_celcius(100)"
   ]
  },
  {
   "cell_type": "code",
   "execution_count": 20,
   "metadata": {},
   "outputs": [
    {
     "name": "stdout",
     "output_type": "stream",
     "text": [
      "333\n"
     ]
    }
   ],
   "source": [
    "x = 111\n",
    "print(x * 3 if x <= 99988 else x * 2)"
   ]
  },
  {
   "cell_type": "code",
   "execution_count": 29,
   "metadata": {},
   "outputs": [
    {
     "name": "stdout",
     "output_type": "stream",
     "text": [
      "6\n",
      "8\n",
      "5\n"
     ]
    }
   ],
   "source": [
    "recommend_A  = int(input()) # if less ouput  Deficency\n",
    "oversleeping_B = int(input()) # if more then Execess\n",
    "AnSleeps_H = int(input())\n",
    " # A is always less than or eual to B\n",
    "if (AnSleeps_H >=recommend_A and  AnSleeps_H <= oversleeping_B):\n",
    "     print(\"Normal\")\n",
    " "
   ]
  },
  {
   "cell_type": "code",
   "execution_count": 27,
   "metadata": {},
   "outputs": [
    {
     "ename": "SyntaxError",
     "evalue": "invalid syntax (<ipython-input-27-13c792e9ac96>, line 4)",
     "output_type": "error",
     "traceback": [
      "\u001b[0;36m  File \u001b[0;32m\"<ipython-input-27-13c792e9ac96>\"\u001b[0;36m, line \u001b[0;32m4\u001b[0m\n\u001b[0;31m    if a < b && <= c:\u001b[0m\n\u001b[0m              ^\u001b[0m\n\u001b[0;31mSyntaxError\u001b[0m\u001b[0;31m:\u001b[0m invalid syntax\n"
     ]
    }
   ],
   "source": [
    "a =2\n",
    "b =3\n",
    "c=5\n",
    "if a < b && <= c:\n",
    "    print(\"True\")"
   ]
  },
  {
   "cell_type": "code",
   "execution_count": 35,
   "metadata": {},
   "outputs": [
    {
     "name": "stdout",
     "output_type": "stream",
     "text": [
      "6\n",
      "10\n",
      "8\n",
      "Normal\n"
     ]
    }
   ],
   "source": [
    "recommended_to_sleep = int(input())\n",
    "oversleeping = int(input())\n",
    "Ann_sleeps = int(input())\n",
    "if Ann_sleeps >=recommended_to_sleep and Ann_sleeps <=oversleeping:\n",
    "    print(\"Normal\")\n",
    "elif Ann_sleeps < recommend_A and Ann_sleeps < oversleeping:\n",
    "    print(\"Deficency\")\n",
    "else:\n",
    "    print(\"Excess\")"
   ]
  },
  {
   "cell_type": "code",
   "execution_count": 36,
   "metadata": {},
   "outputs": [
    {
     "ename": "SyntaxError",
     "evalue": "invalid syntax (<ipython-input-36-ab02678bcd6d>, line 60)",
     "output_type": "error",
     "traceback": [
      "\u001b[0;36m  File \u001b[0;32m\"<ipython-input-36-ab02678bcd6d>\"\u001b[0;36m, line \u001b[0;32m60\u001b[0m\n\u001b[0;31m    end()      print(\"Please, try again.\")\u001b[0m\n\u001b[0m                   ^\u001b[0m\n\u001b[0;31mSyntaxError\u001b[0m\u001b[0;31m:\u001b[0m invalid syntax\n"
     ]
    }
   ],
   "source": []
  },
  {
   "cell_type": "code",
   "execution_count": 43,
   "metadata": {},
   "outputs": [
    {
     "name": "stdout",
     "output_type": "stream",
     "text": [
      "Hello! My name is Aid.\n",
      "I was created in 2020.\n",
      "Please, remind me your name.\n",
      "Nis\n",
      "What a great name you have, Nis!\n",
      "Let me guess your age.\n",
      "Enter remainders of dividing your age by 3, 5 and 7.\n",
      "1\n",
      "2\n",
      "1\n",
      "Your age is 22; that's a good time to start programming!\n",
      "Now I will prove to you that I can count to any number you want.\n",
      "4\n",
      "0 !\n",
      "1 !\n",
      "2 !\n",
      "3 !\n",
      "4 !\n",
      "Let's test your programming knowledge.\n",
      "Why do we use methods?\n",
      "1. To repeat a statement multiple times.\n",
      "2. To decompose a program into several small subroutines.\n",
      "3. To determine the execution time of a program.\n",
      "4. To interrupt the execution of a program.\n",
      "4\n",
      "Please, try again.\n",
      "2\n",
      "Congratulations, have a nice day!\n"
     ]
    }
   ],
   "source": [
    "def greet(bot_name, birth_year):\n",
    "    print('Hello! My name is ' + bot_name + '.')\n",
    "    print('I was created in ' + birth_year + '.')\n",
    "\n",
    "\n",
    "def remind_name():\n",
    "    print('Please, remind me your name.')\n",
    "    name = input()\n",
    "    print('What a great name you have, ' + name + '!')\n",
    "\n",
    "\n",
    "def guess_age():\n",
    "    print('Let me guess your age.')\n",
    "    print('Enter remainders of dividing your age by 3, 5 and 7.')\n",
    "\n",
    "    rem3 = int(input())\n",
    "    rem5 = int(input())\n",
    "    rem7 = int(input())\n",
    "    age = (rem3 * 70 + rem5 * 21 + rem7 * 15) % 105\n",
    "\n",
    "    print(\"Your age is \" + str(age) + \"; that's a good time to start programming!\")\n",
    "\n",
    "\n",
    "def count():\n",
    "    print('Now I will prove to you that I can count to any number you want.')\n",
    "\n",
    "    num = int(input())\n",
    "    curr = 0\n",
    "    while curr <= num:\n",
    "        print(curr, '!')\n",
    "        curr = curr + 1\n",
    "\n",
    "\n",
    "def test():\n",
    "    print(\"Let's test your programming knowledge.\")\n",
    "    # write your code here\n",
    "    print(\"Why do we use methods?\")\n",
    "    print(\"1. To repeat a statement multiple times.\")\n",
    "    print(\"2. To decompose a program into several small subroutines.\")\n",
    "    print(\"3. To determine the execution time of a program.\")\n",
    "    print(\"4. To interrupt the execution of a program.\")\n",
    "    user_input = int(input())\n",
    "    if user_input == 4 or user_input == 1 or user_input == 3:\n",
    "        print(\"Please, try again.\")\n",
    "        again_input = int(input())\n",
    "    else:\n",
    "        print(\"Completed, have a nice day!'\")  \n",
    "    \n",
    "\n",
    "\n",
    "def end():\n",
    "    print('Congratulations, have a nice day!')\n",
    "\n",
    "\n",
    "greet('Aid', '2020')  # change it as you need\n",
    "remind_name()\n",
    "guess_age()\n",
    "count()\n",
    "test()\n",
    "end()\n"
   ]
  },
  {
   "cell_type": "code",
   "execution_count": null,
   "metadata": {},
   "outputs": [],
   "source": []
  }
 ],
 "metadata": {
  "kernelspec": {
   "display_name": "Python 3",
   "language": "python",
   "name": "python3"
  },
  "language_info": {
   "codemirror_mode": {
    "name": "ipython",
    "version": 3
   },
   "file_extension": ".py",
   "mimetype": "text/x-python",
   "name": "python",
   "nbconvert_exporter": "python",
   "pygments_lexer": "ipython3",
   "version": "3.7.4"
  }
 },
 "nbformat": 4,
 "nbformat_minor": 4
}
